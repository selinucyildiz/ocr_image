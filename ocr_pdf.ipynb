{
  "nbformat": 4,
  "nbformat_minor": 0,
  "metadata": {
    "colab": {
      "name": "ocr_pdf.ipynb",
      "provenance": [],
      "collapsed_sections": [],
      "authorship_tag": "ABX9TyNNYjzMjDNht9Ycw+NV1pat"
    },
    "kernelspec": {
      "name": "python3",
      "display_name": "Python 3"
    },
    "language_info": {
      "name": "python"
    }
  },
  "cells": [
    {
      "cell_type": "code",
      "execution_count": null,
      "metadata": {
        "id": "d8NIzfbk14ib",
        "colab": {
          "base_uri": "https://localhost:8080/"
        },
        "outputId": "720ff94e-1c00-4ff1-b307-39bc34c3737e"
      },
      "outputs": [
        {
          "output_type": "stream",
          "name": "stdout",
          "text": [
            "Looking in indexes: https://pypi.org/simple, https://us-python.pkg.dev/colab-wheels/public/simple/\n",
            "Requirement already satisfied: pdf2image in /usr/local/lib/python3.7/dist-packages (1.16.0)\n",
            "Requirement already satisfied: pillow in /usr/local/lib/python3.7/dist-packages (from pdf2image) (9.2.0)\n",
            "Reading package lists... Done\n",
            "Building dependency tree       \n",
            "Reading state information... Done\n",
            "poppler-utils is already the newest version (0.62.0-2ubuntu2.12).\n",
            "The following package was automatically installed and is no longer required:\n",
            "  libnvidia-common-460\n",
            "Use 'apt autoremove' to remove it.\n",
            "0 upgraded, 0 newly installed, 0 to remove and 19 not upgraded.\n",
            "Looking in indexes: https://pypi.org/simple, https://us-python.pkg.dev/colab-wheels/public/simple/\n",
            "Requirement already satisfied: pdf2image in /usr/local/lib/python3.7/dist-packages (1.16.0)\n",
            "Requirement already satisfied: pillow in /usr/local/lib/python3.7/dist-packages (from pdf2image) (9.2.0)\n",
            "Reading package lists... Done\n",
            "Building dependency tree       \n",
            "Reading state information... Done\n",
            "tesseract-ocr-tur is already the newest version (4.00~git24-0e00fe6-1.2).\n",
            "The following package was automatically installed and is no longer required:\n",
            "  libnvidia-common-460\n",
            "Use 'sudo apt autoremove' to remove it.\n",
            "0 upgraded, 0 newly installed, 0 to remove and 19 not upgraded.\n"
          ]
        }
      ],
      "source": [
        "!pip install pdf2image\n",
        "!apt-get install poppler-utils\n",
        "!pip install pdf2image\n",
        "!sudo apt-get install tesseract-ocr-tur\n"
      ]
    },
    {
      "cell_type": "code",
      "source": [
        "!sudo apt install tesseract-ocr\n",
        "!pip install pytesseract"
      ],
      "metadata": {
        "id": "b77zj63ujtit",
        "colab": {
          "base_uri": "https://localhost:8080/"
        },
        "outputId": "84c4f490-8ccd-47f4-ca91-73b94e6f11ef"
      },
      "execution_count": null,
      "outputs": [
        {
          "output_type": "stream",
          "name": "stdout",
          "text": [
            "Reading package lists... Done\n",
            "Building dependency tree       \n",
            "Reading state information... Done\n",
            "tesseract-ocr is already the newest version (4.00~git2288-10f4998a-2).\n",
            "The following package was automatically installed and is no longer required:\n",
            "  libnvidia-common-460\n",
            "Use 'sudo apt autoremove' to remove it.\n",
            "0 upgraded, 0 newly installed, 0 to remove and 19 not upgraded.\n",
            "Looking in indexes: https://pypi.org/simple, https://us-python.pkg.dev/colab-wheels/public/simple/\n",
            "Requirement already satisfied: pytesseract in /usr/local/lib/python3.7/dist-packages (0.3.9)\n",
            "Requirement already satisfied: Pillow>=8.0.0 in /usr/local/lib/python3.7/dist-packages (from pytesseract) (9.2.0)\n",
            "Requirement already satisfied: packaging>=21.3 in /usr/local/lib/python3.7/dist-packages (from pytesseract) (21.3)\n",
            "Requirement already satisfied: pyparsing!=3.0.5,>=2.0.2 in /usr/local/lib/python3.7/dist-packages (from packaging>=21.3->pytesseract) (3.0.9)\n"
          ]
        }
      ]
    },
    {
      "cell_type": "code",
      "source": [
        "from pdf2image import convert_from_path\n",
        "import pytesseract \n",
        "import cv2\n",
        "import json\n",
        "from PIL import Image"
      ],
      "metadata": {
        "id": "jVGC63nI17zp"
      },
      "execution_count": null,
      "outputs": []
    },
    {
      "cell_type": "code",
      "source": [
        "!mkdir pages"
      ],
      "metadata": {
        "colab": {
          "base_uri": "https://localhost:8080/"
        },
        "id": "Wbv9B2khDCnM",
        "outputId": "9901cb51-14a6-4987-ebea-f82a9eaaa73b"
      },
      "execution_count": null,
      "outputs": [
        {
          "output_type": "stream",
          "name": "stdout",
          "text": [
            "mkdir: cannot create directory ‘pages’: File exists\n"
          ]
        }
      ]
    },
    {
      "cell_type": "code",
      "source": [
        "images = convert_from_path(\"comp109.pdf\")"
      ],
      "metadata": {
        "id": "cGWSNL8n2MZG"
      },
      "execution_count": null,
      "outputs": []
    },
    {
      "cell_type": "code",
      "source": [
        ""
      ],
      "metadata": {
        "id": "dWzBQbfg2Tjh"
      },
      "execution_count": null,
      "outputs": []
    },
    {
      "cell_type": "code",
      "source": [
        "for i in range(len(images)):\n",
        "  images[i].save('pages/page'+str(i+1)+'.jpg', 'JPEG')"
      ],
      "metadata": {
        "id": "ZUanuTLR2Tkg"
      },
      "execution_count": null,
      "outputs": []
    },
    {
      "cell_type": "code",
      "source": [
        "#for p in range(len(images)):\n",
        "  #image = \"pages/page\",str(p+1),\".jpg\"\n",
        "image = cv2.imread(\"pages/page1.jpg\")"
      ],
      "metadata": {
        "id": "f6xYN86rjCO0"
      },
      "execution_count": null,
      "outputs": []
    },
    {
      "cell_type": "code",
      "source": [
        "ocr_result = pytesseract.image_to_string(image, lang=\"tur\")"
      ],
      "metadata": {
        "id": "xyistx8KjnOz"
      },
      "execution_count": null,
      "outputs": []
    },
    {
      "cell_type": "code",
      "source": [
        "print(ocr_result)"
      ],
      "metadata": {
        "id": "Mna-l3VjkDTs",
        "colab": {
          "base_uri": "https://localhost:8080/"
        },
        "outputId": "107c9b85-a9c6-43c5-f9ca-8a2c1dcac14a"
      },
      "execution_count": null,
      "outputs": [
        {
          "output_type": "stream",
          "name": "stdout",
          "text": [
            "NEF\n",
            "\n",
            "UNIVERSITY\n",
            "\n",
            "Faculty\n",
            "\n",
            "Program\n",
            "\n",
            "Course Code\n",
            "\n",
            "Course Title in English\n",
            "Course Title in Turkish\n",
            "Language of Instruction\n",
            "Type of Course\n",
            "\n",
            "Level of Course\n",
            "\n",
            "Course Category\n",
            "\n",
            "(by Yo of Content)\n",
            "Semester Offered\n",
            "Contact Hours per Week\n",
            "\n",
            "Estimated Student\n",
            "Workload\n",
            "\n",
            "Number of Credits\n",
            "Grading Mode\n",
            "Pre-reguisites\n",
            "Expected Prior\n",
            "Knowledge\n",
            "\n",
            "Co-reguisites\n",
            "Registration Restrictions\n",
            "Overall Educational\n",
            "Objective\n",
            "\n",
            "Course Description\n",
            "\n",
            " \n",
            "\n",
            "Course Description in\n",
            "Turkish\n",
            "\n",
            "Course Learning\n",
            "Outcomes and\n",
            "Competences\n",
            "\n",
            "10\n",
            "\n",
            "Lecture: 3 hours\n",
            "\n",
            "ECTS COURSE INFORMATION FORM\n",
            "\n",
            "     \n",
            " \n",
            "\n",
            "(B.Sc. in Mechanical Engineering |—(\n",
            "\n",
            "COMP 305\n",
            "\n",
            "Database Management Systems\n",
            "\n",
            "Veritabanı Yönetim Sistemleri\n",
            "\n",
            "English\n",
            "\n",
            "Lecture / Exercise\n",
            "\n",
            "Undergraduate\n",
            "\n",
            "Basic Science * Basic Engineering\n",
            "110\n",
            "\n",
            "Fall\n",
            "\n",
            "İ Recitation: -\n",
            "\n",
            "164 hours\n",
            "\n",
            "İG ECTS\n",
            "\n",
            "Standard Letter Grade\n",
            "\n",
            "“COMP 106\n",
            "\n",
            "Object Oriented Programming\n",
            "\n",
            "None\n",
            "\n",
            "Only Undergraduate Students\n",
            "\n",
            "“The main objective of this course is to present\n",
            "\n",
            "İ Engineering Design\n",
            "170\n",
            "\n",
            "| Lab: -\n",
            "\n",
            "Elective\n",
            "\n",
            " \n",
            "\n",
            "\" General Education\n",
            "10\n",
            "\n",
            "i Other: -\n",
            "\n",
            "“To learn the fundamentals of database technology.\n",
            "\n",
            "the fundamentals of database technology. The\n",
            "\n",
            "course is mainly designed to teach the use of a database management system (DBMS) by\n",
            "\n",
            "treating it as a black box and by focusing only\n",
            "\n",
            "on its functionality and its interfaces. Within\n",
            "\n",
            "this context, the course will deal with data modeling and design of a database.\n",
            "This course provides a comprehensive introduction to some fundamental aspects of Database\n",
            "\n",
            "Management. The following topics are covered\n",
            "\n",
            ": Database concepts, Relational model,\n",
            "\n",
            "Application development, Database design, normalization, entity-relationship models.\n",
            "\n",
            "Dersin amacı öğrencilerin bir bilgi sisteminin te\n",
            "fiziksel olarak nasıl modellendiğini, nasıl yöneti\n",
            "dönüştürülmesi safhalarında yapacakları müda\n",
            "tabanı yönetim sistemini kullanarak veri tabanı\n",
            "beklenmektedir.\n",
            "\n",
            "Upon successful completion of the course, the\n",
            "\n",
            "1. Describe the fundamental elements of relati\n",
            "2. Explain the basic concepts of relational data\n",
            "database design, relational algebra and SOL;\n",
            "\n",
            "3. Design ER-models to represent simple data\n",
            "\n",
            "melini oluşturan veri tabanının mantıksal ve\n",
            "diğini, ve özellikle verinin bilgiye\n",
            "\n",
            "haleleri öğrenmeleridir. Öğrencilerin bu veri\n",
            "yönetimi konusunda da uzmanlaşması\n",
            "\n",
            "earner is expected to:\n",
            "\n",
            "onal database management systems;\n",
            "model, entity-relationship model, relational\n",
            "\n",
            "base application scenarios;\n",
            "\n",
            "4. Convert the ER-model to relational tables, populate relational database and formulate SOL\n",
            "\n",
            "gueries on data;\n",
            "\n",
            "5. Asa member of a team, design a new DBMS;\n",
            "\n",
            " \n",
            "\n",
            "6. Present the DBMS project in front of an aud\n",
            "\n",
            "ience.\n",
            "\f\n"
          ]
        }
      ]
    },
    {
      "cell_type": "code",
      "source": [
        "json_object = json.dumps(ocr_result, ensure_ascii = False)\n",
        "\n",
        "with open(\"bankInfo.json\", \"w\") as outfile:\n",
        "  outfile.write(json_object)"
      ],
      "metadata": {
        "id": "TCfmf9PCkfWz"
      },
      "execution_count": null,
      "outputs": []
    },
    {
      "cell_type": "code",
      "source": [
        "print(json_object)"
      ],
      "metadata": {
        "id": "1pEK8TT6krFi",
        "colab": {
          "base_uri": "https://localhost:8080/"
        },
        "outputId": "1fb004b1-4c22-4c08-dc95-fb98280f6153"
      },
      "execution_count": null,
      "outputs": [
        {
          "output_type": "stream",
          "name": "stdout",
          "text": [
            "\"NEF\\n\\nUNIVERSITY\\n\\nFaculty\\n\\nProgram\\n\\nCourse Code\\n\\nCourse Title in English\\nCourse Title in Turkish\\nLanguage of Instruction\\nType of Course\\n\\nLevel of Course\\n\\nCourse Category\\n\\n(by Yo of Content)\\nSemester Offered\\nContact Hours per Week\\n\\nEstimated Student\\nWorkload\\n\\nNumber of Credits\\nGrading Mode\\nPre-reguisites\\nExpected Prior\\nKnowledge\\n\\nCo-reguisites\\nRegistration Restrictions\\nOverall Educational\\nObjective\\n\\nCourse Description\\n\\n \\n\\nCourse Description in\\nTurkish\\n\\nCourse Learning\\nOutcomes and\\nCompetences\\n\\n10\\n\\nLecture: 3 hours\\n\\nECTS COURSE INFORMATION FORM\\n\\n     \\n \\n\\n(B.Sc. in Mechanical Engineering |—(\\n\\nCOMP 305\\n\\nDatabase Management Systems\\n\\nVeritabanı Yönetim Sistemleri\\n\\nEnglish\\n\\nLecture / Exercise\\n\\nUndergraduate\\n\\nBasic Science * Basic Engineering\\n110\\n\\nFall\\n\\nİ Recitation: -\\n\\n164 hours\\n\\nİG ECTS\\n\\nStandard Letter Grade\\n\\n“COMP 106\\n\\nObject Oriented Programming\\n\\nNone\\n\\nOnly Undergraduate Students\\n\\n“The main objective of this course is to present\\n\\nİ Engineering Design\\n170\\n\\n| Lab: -\\n\\nElective\\n\\n \\n\\n\\\" General Education\\n10\\n\\ni Other: -\\n\\n“To learn the fundamentals of database technology.\\n\\nthe fundamentals of database technology. The\\n\\ncourse is mainly designed to teach the use of a database management system (DBMS) by\\n\\ntreating it as a black box and by focusing only\\n\\non its functionality and its interfaces. Within\\n\\nthis context, the course will deal with data modeling and design of a database.\\nThis course provides a comprehensive introduction to some fundamental aspects of Database\\n\\nManagement. The following topics are covered\\n\\n: Database concepts, Relational model,\\n\\nApplication development, Database design, normalization, entity-relationship models.\\n\\nDersin amacı öğrencilerin bir bilgi sisteminin te\\nfiziksel olarak nasıl modellendiğini, nasıl yöneti\\ndönüştürülmesi safhalarında yapacakları müda\\ntabanı yönetim sistemini kullanarak veri tabanı\\nbeklenmektedir.\\n\\nUpon successful completion of the course, the\\n\\n1. Describe the fundamental elements of relati\\n2. Explain the basic concepts of relational data\\ndatabase design, relational algebra and SOL;\\n\\n3. Design ER-models to represent simple data\\n\\nmelini oluşturan veri tabanının mantıksal ve\\ndiğini, ve özellikle verinin bilgiye\\n\\nhaleleri öğrenmeleridir. Öğrencilerin bu veri\\nyönetimi konusunda da uzmanlaşması\\n\\nearner is expected to:\\n\\nonal database management systems;\\nmodel, entity-relationship model, relational\\n\\nbase application scenarios;\\n\\n4. Convert the ER-model to relational tables, populate relational database and formulate SOL\\n\\ngueries on data;\\n\\n5. Asa member of a team, design a new DBMS;\\n\\n \\n\\n6. Present the DBMS project in front of an aud\\n\\nience.\\n\\f\"\n"
          ]
        }
      ]
    },
    {
      "cell_type": "code",
      "source": [
        ""
      ],
      "metadata": {
        "id": "9YZrd5bBluYr"
      },
      "execution_count": null,
      "outputs": []
    }
  ]
}