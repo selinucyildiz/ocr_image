{
  "nbformat": 4,
  "nbformat_minor": 0,
  "metadata": {
    "colab": {
      "name": "ocr_image.ipynb",
      "provenance": [],
      "collapsed_sections": [],
      "authorship_tag": "ABX9TyNCfF/f5rmRc/Lp5CXZ2syS"
    },
    "kernelspec": {
      "name": "python3",
      "display_name": "Python 3"
    },
    "language_info": {
      "name": "python"
    }
  },
  "cells": [
    {
      "cell_type": "code",
      "execution_count": null,
      "metadata": {
        "id": "i-WwHNIX2Xws"
      },
      "outputs": [],
      "source": [
        "!sudo apt-get install tesseract-ocr-tur\n"
      ]
    },
    {
      "cell_type": "code",
      "source": [
        "!pip install pytesseract"
      ],
      "metadata": {
        "id": "5Nr88rMy2xyA"
      },
      "execution_count": null,
      "outputs": []
    },
    {
      "cell_type": "code",
      "source": [
        "import pytesseract \n",
        "import cv2\n",
        "import json"
      ],
      "metadata": {
        "id": "onl5Ttvf2o26"
      },
      "execution_count": 3,
      "outputs": []
    },
    {
      "cell_type": "code",
      "source": [
        "image = cv2.imread(\"java_ss.png\")"
      ],
      "metadata": {
        "id": "tF6iuBzb2-fD"
      },
      "execution_count": 4,
      "outputs": []
    },
    {
      "cell_type": "code",
      "source": [
        "ocr_result = pytesseract.image_to_string(image, lang=\"tur+eng\")"
      ],
      "metadata": {
        "id": "BLApNw1c3BNA"
      },
      "execution_count": 5,
      "outputs": []
    },
    {
      "cell_type": "code",
      "source": [
        "print(ocr_result)"
      ],
      "metadata": {
        "id": "1P3rxTAG3Ir7"
      },
      "execution_count": null,
      "outputs": []
    },
    {
      "cell_type": "code",
      "source": [
        "json_object = json.dumps(ocr_result, ensure_ascii = False)\n",
        "\n",
        "with open(\"java_ss.json\", \"w\") as outfile:\n",
        "  outfile.write(json_object)"
      ],
      "metadata": {
        "id": "8uEHI-cT3RVF"
      },
      "execution_count": 7,
      "outputs": []
    }
  ]
}